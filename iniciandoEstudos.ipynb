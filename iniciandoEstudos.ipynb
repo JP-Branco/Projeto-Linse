{
 "cells": [
  {
   "cell_type": "markdown",
   "metadata": {},
   "source": [
    "## --------------------------\n",
    "# Instalação de Dependências\n",
    "# --------------------------"
   ]
  },
  {
   "cell_type": "code",
   "execution_count": 1,
   "metadata": {},
   "outputs": [
    {
     "name": "stderr",
     "output_type": "stream",
     "text": [
      "fatal: destination path 'ActVibModules' already exists and is not an empty directory.\n"
     ]
    },
    {
     "name": "stdout",
     "output_type": "stream",
     "text": [
      "Requirement already satisfied: matplotlib in c:\\users\\jpsfb\\miniconda3\\envs\\myenv\\lib\\site-packages (3.8.2)\n",
      "Requirement already satisfied: contourpy>=1.0.1 in c:\\users\\jpsfb\\miniconda3\\envs\\myenv\\lib\\site-packages (from matplotlib) (1.2.0)\n",
      "Requirement already satisfied: cycler>=0.10 in c:\\users\\jpsfb\\miniconda3\\envs\\myenv\\lib\\site-packages (from matplotlib) (0.12.1)\n",
      "Requirement already satisfied: fonttools>=4.22.0 in c:\\users\\jpsfb\\miniconda3\\envs\\myenv\\lib\\site-packages (from matplotlib) (4.45.1)\n",
      "Requirement already satisfied: kiwisolver>=1.3.1 in c:\\users\\jpsfb\\miniconda3\\envs\\myenv\\lib\\site-packages (from matplotlib) (1.4.5)\n",
      "Requirement already satisfied: numpy<2,>=1.21 in c:\\users\\jpsfb\\miniconda3\\envs\\myenv\\lib\\site-packages (from matplotlib) (1.26.2)\n",
      "Requirement already satisfied: packaging>=20.0 in c:\\users\\jpsfb\\appdata\\roaming\\python\\python311\\site-packages (from matplotlib) (23.2)\n",
      "Requirement already satisfied: pillow>=8 in c:\\users\\jpsfb\\miniconda3\\envs\\myenv\\lib\\site-packages (from matplotlib) (10.1.0)\n",
      "Requirement already satisfied: pyparsing>=2.3.1 in c:\\users\\jpsfb\\miniconda3\\envs\\myenv\\lib\\site-packages (from matplotlib) (3.1.1)\n",
      "Requirement already satisfied: python-dateutil>=2.7 in c:\\users\\jpsfb\\appdata\\roaming\\python\\python311\\site-packages (from matplotlib) (2.8.2)\n",
      "Requirement already satisfied: six>=1.5 in c:\\users\\jpsfb\\appdata\\roaming\\python\\python311\\site-packages (from python-dateutil>=2.7->matplotlib) (1.16.0)\n",
      "Note: you may need to restart the kernel to use updated packages.\n",
      "Requirement already satisfied: pandas in c:\\users\\jpsfb\\miniconda3\\envs\\myenv\\lib\\site-packages (2.1.3)\n",
      "Requirement already satisfied: feather-format in c:\\users\\jpsfb\\miniconda3\\envs\\myenv\\lib\\site-packages (0.4.1)\n",
      "Requirement already satisfied: numpy<2,>=1.23.2 in c:\\users\\jpsfb\\miniconda3\\envs\\myenv\\lib\\site-packages (from pandas) (1.26.2)\n",
      "Requirement already satisfied: python-dateutil>=2.8.2 in c:\\users\\jpsfb\\appdata\\roaming\\python\\python311\\site-packages (from pandas) (2.8.2)\n",
      "Requirement already satisfied: pytz>=2020.1 in c:\\users\\jpsfb\\miniconda3\\envs\\myenv\\lib\\site-packages (from pandas) (2023.3.post1)\n",
      "Requirement already satisfied: tzdata>=2022.1 in c:\\users\\jpsfb\\miniconda3\\envs\\myenv\\lib\\site-packages (from pandas) (2023.3)\n",
      "Requirement already satisfied: pyarrow>=0.4.0 in c:\\users\\jpsfb\\miniconda3\\envs\\myenv\\lib\\site-packages (from feather-format) (14.0.1)\n",
      "Requirement already satisfied: six>=1.5 in c:\\users\\jpsfb\\appdata\\roaming\\python\\python311\\site-packages (from python-dateutil>=2.8.2->pandas) (1.16.0)\n",
      "Note: you may need to restart the kernel to use updated packages.\n",
      "Requirement already satisfied: scikit-learn in c:\\users\\jpsfb\\miniconda3\\envs\\myenv\\lib\\site-packages (1.3.2)\n",
      "Requirement already satisfied: numpy<2.0,>=1.17.3 in c:\\users\\jpsfb\\miniconda3\\envs\\myenv\\lib\\site-packages (from scikit-learn) (1.26.2)\n",
      "Requirement already satisfied: scipy>=1.5.0 in c:\\users\\jpsfb\\miniconda3\\envs\\myenv\\lib\\site-packages (from scikit-learn) (1.11.4)\n",
      "Requirement already satisfied: joblib>=1.1.1 in c:\\users\\jpsfb\\miniconda3\\envs\\myenv\\lib\\site-packages (from scikit-learn) (1.3.2)\n",
      "Requirement already satisfied: threadpoolctl>=2.0.0 in c:\\users\\jpsfb\\miniconda3\\envs\\myenv\\lib\\site-packages (from scikit-learn) (3.2.0)\n",
      "Note: you may need to restart the kernel to use updated packages.\n",
      "Requirement already satisfied: scipy in c:\\users\\jpsfb\\miniconda3\\envs\\myenv\\lib\\site-packages (1.11.4)\n",
      "Requirement already satisfied: numpy<1.28.0,>=1.21.6 in c:\\users\\jpsfb\\miniconda3\\envs\\myenv\\lib\\site-packages (from scipy) (1.26.2)\n",
      "Note: you may need to restart the kernel to use updated packages.\n",
      "Requirement already satisfied: pyarrow in c:\\users\\jpsfb\\miniconda3\\envs\\myenv\\lib\\site-packages (14.0.1)\n",
      "Requirement already satisfied: numpy>=1.16.6 in c:\\users\\jpsfb\\miniconda3\\envs\\myenv\\lib\\site-packages (from pyarrow) (1.26.2)\n",
      "Note: you may need to restart the kernel to use updated packages.\n"
     ]
    }
   ],
   "source": [
    "!git clone https://github.com/eduardobatista/ActVibModules.git\n",
    "\n",
    "%pip install matplotlib\n",
    "%pip install pandas feather-format\n",
    "%pip install scikit-learn\n",
    "%pip install scipy\n",
    "%pip install pyarrow"
   ]
  },
  {
   "cell_type": "markdown",
   "metadata": {},
   "source": [
    "# ------------------\n",
    "# Importações\n",
    "# ------------------"
   ]
  },
  {
   "cell_type": "code",
   "execution_count": 2,
   "metadata": {},
   "outputs": [],
   "source": [
    "import os\n",
    "import gdown\n",
    "import pandas as pd\n",
    "import matplotlib.pyplot as plt\n",
    "\n",
    "from sklearn.preprocessing import StandardScaler\n",
    "from ActVibModules.ActVibSystem import ActVibData \n",
    "from sklearn.linear_model import LinearRegression\n",
    "from sklearn.preprocessing import PolynomialFeatures"
   ]
  },
  {
   "cell_type": "markdown",
   "metadata": {},
   "source": [
    "# -------------------\n",
    "# Configuração de Path\n",
    "# -------------------"
   ]
  },
  {
   "cell_type": "code",
   "execution_count": 3,
   "metadata": {},
   "outputs": [
    {
     "data": {
      "text/plain": [
       "'c:\\\\Users\\\\jpsfb\\\\OneDrive\\\\Área de Trabalho\\\\LINSE\\\\Códigos'"
      ]
     },
     "execution_count": 3,
     "metadata": {},
     "output_type": "execute_result"
    }
   ],
   "source": [
    "os.getcwd()"
   ]
  },
  {
   "cell_type": "markdown",
   "metadata": {},
   "source": [
    "# -----------------------------------\n",
    "# Download e Leitura dos Dados\n",
    "# -----------------------------------"
   ]
  },
  {
   "cell_type": "code",
   "execution_count": 4,
   "metadata": {},
   "outputs": [
    {
     "name": "stderr",
     "output_type": "stream",
     "text": [
      "Downloading...\n",
      "From: https://drive.google.com/uc?id=1waQTn6e9-QB5OPWqSTHl4HRZRisL7-rv\n",
      "To: c:\\Users\\jpsfb\\OneDrive\\Área de Trabalho\\LINSE\\Códigos\\MedicaoDEDOjoao.feather\n",
      "100%|██████████| 6.31M/6.31M [00:00<00:00, 13.1MB/s]\n"
     ]
    },
    {
     "data": {
      "text/html": [
       "<div>\n",
       "<style scoped>\n",
       "    .dataframe tbody tr th:only-of-type {\n",
       "        vertical-align: middle;\n",
       "    }\n",
       "\n",
       "    .dataframe tbody tr th {\n",
       "        vertical-align: top;\n",
       "    }\n",
       "\n",
       "    .dataframe thead th {\n",
       "        text-align: right;\n",
       "    }\n",
       "</style>\n",
       "<table border=\"1\" class=\"dataframe\">\n",
       "  <thead>\n",
       "    <tr style=\"text-align: right;\">\n",
       "      <th></th>\n",
       "      <th>time</th>\n",
       "      <th>dac1</th>\n",
       "      <th>dac2</th>\n",
       "      <th>dac3</th>\n",
       "      <th>dac4</th>\n",
       "      <th>imu1accx</th>\n",
       "      <th>imu1accy</th>\n",
       "      <th>imu1accz</th>\n",
       "      <th>imu1gyrox</th>\n",
       "      <th>imu1gyroy</th>\n",
       "      <th>imu1gyroz</th>\n",
       "      <th>imu2accx</th>\n",
       "      <th>imu2accy</th>\n",
       "      <th>imu2accz</th>\n",
       "      <th>imu2gyrox</th>\n",
       "      <th>imu2gyroy</th>\n",
       "      <th>imu2gyroz</th>\n",
       "    </tr>\n",
       "  </thead>\n",
       "  <tbody>\n",
       "    <tr>\n",
       "      <th>count</th>\n",
       "      <td>124792.000000</td>\n",
       "      <td>124792.0</td>\n",
       "      <td>124792.0</td>\n",
       "      <td>124792.0</td>\n",
       "      <td>124792.0</td>\n",
       "      <td>124792.000000</td>\n",
       "      <td>124792.000000</td>\n",
       "      <td>124792.000000</td>\n",
       "      <td>124792.000000</td>\n",
       "      <td>124792.000000</td>\n",
       "      <td>124792.000000</td>\n",
       "      <td>124792.000000</td>\n",
       "      <td>124792.000000</td>\n",
       "      <td>124792.000000</td>\n",
       "      <td>124792.000000</td>\n",
       "      <td>124792.000000</td>\n",
       "      <td>124792.000000</td>\n",
       "    </tr>\n",
       "    <tr>\n",
       "      <th>mean</th>\n",
       "      <td>299.997564</td>\n",
       "      <td>0.0</td>\n",
       "      <td>0.0</td>\n",
       "      <td>0.0</td>\n",
       "      <td>0.0</td>\n",
       "      <td>0.856618</td>\n",
       "      <td>19.551479</td>\n",
       "      <td>0.740569</td>\n",
       "      <td>1.866581</td>\n",
       "      <td>-3.740061</td>\n",
       "      <td>-4.493866</td>\n",
       "      <td>-1.670485</td>\n",
       "      <td>19.392886</td>\n",
       "      <td>0.969144</td>\n",
       "      <td>2.511848</td>\n",
       "      <td>-6.669598</td>\n",
       "      <td>-2.479387</td>\n",
       "    </tr>\n",
       "    <tr>\n",
       "      <th>std</th>\n",
       "      <td>173.205756</td>\n",
       "      <td>0.0</td>\n",
       "      <td>0.0</td>\n",
       "      <td>0.0</td>\n",
       "      <td>0.0</td>\n",
       "      <td>0.275232</td>\n",
       "      <td>0.168409</td>\n",
       "      <td>1.749063</td>\n",
       "      <td>2.925041</td>\n",
       "      <td>0.316832</td>\n",
       "      <td>0.080097</td>\n",
       "      <td>0.549420</td>\n",
       "      <td>0.440526</td>\n",
       "      <td>3.066959</td>\n",
       "      <td>4.329607</td>\n",
       "      <td>0.489503</td>\n",
       "      <td>0.130623</td>\n",
       "    </tr>\n",
       "    <tr>\n",
       "      <th>min</th>\n",
       "      <td>0.000000</td>\n",
       "      <td>0.0</td>\n",
       "      <td>0.0</td>\n",
       "      <td>0.0</td>\n",
       "      <td>0.0</td>\n",
       "      <td>-16.024392</td>\n",
       "      <td>12.427104</td>\n",
       "      <td>-30.725987</td>\n",
       "      <td>-25.859833</td>\n",
       "      <td>-13.656616</td>\n",
       "      <td>-5.458832</td>\n",
       "      <td>-29.062017</td>\n",
       "      <td>8.911219</td>\n",
       "      <td>-39.202658</td>\n",
       "      <td>-37.853241</td>\n",
       "      <td>-23.071289</td>\n",
       "      <td>-4.226685</td>\n",
       "    </tr>\n",
       "    <tr>\n",
       "      <th>25%</th>\n",
       "      <td>149.998782</td>\n",
       "      <td>0.0</td>\n",
       "      <td>0.0</td>\n",
       "      <td>0.0</td>\n",
       "      <td>0.0</td>\n",
       "      <td>0.843956</td>\n",
       "      <td>19.536686</td>\n",
       "      <td>0.565032</td>\n",
       "      <td>1.300812</td>\n",
       "      <td>-3.837585</td>\n",
       "      <td>-4.547119</td>\n",
       "      <td>-1.685518</td>\n",
       "      <td>19.366697</td>\n",
       "      <td>0.469264</td>\n",
       "      <td>1.720428</td>\n",
       "      <td>-6.790161</td>\n",
       "      <td>-2.532959</td>\n",
       "    </tr>\n",
       "    <tr>\n",
       "      <th>50%</th>\n",
       "      <td>299.997564</td>\n",
       "      <td>0.0</td>\n",
       "      <td>0.0</td>\n",
       "      <td>0.0</td>\n",
       "      <td>0.0</td>\n",
       "      <td>0.855927</td>\n",
       "      <td>19.553445</td>\n",
       "      <td>0.738611</td>\n",
       "      <td>1.869202</td>\n",
       "      <td>-3.742218</td>\n",
       "      <td>-4.493713</td>\n",
       "      <td>-1.669956</td>\n",
       "      <td>19.389442</td>\n",
       "      <td>0.967257</td>\n",
       "      <td>2.513885</td>\n",
       "      <td>-6.668091</td>\n",
       "      <td>-2.479553</td>\n",
       "    </tr>\n",
       "    <tr>\n",
       "      <th>75%</th>\n",
       "      <td>449.996346</td>\n",
       "      <td>0.0</td>\n",
       "      <td>0.0</td>\n",
       "      <td>0.0</td>\n",
       "      <td>0.0</td>\n",
       "      <td>0.869095</td>\n",
       "      <td>19.566613</td>\n",
       "      <td>0.913388</td>\n",
       "      <td>2.429962</td>\n",
       "      <td>-3.643036</td>\n",
       "      <td>-4.444122</td>\n",
       "      <td>-1.655590</td>\n",
       "      <td>19.413384</td>\n",
       "      <td>1.472434</td>\n",
       "      <td>3.311157</td>\n",
       "      <td>-6.549835</td>\n",
       "      <td>-2.426147</td>\n",
       "    </tr>\n",
       "    <tr>\n",
       "      <th>max</th>\n",
       "      <td>599.995128</td>\n",
       "      <td>0.0</td>\n",
       "      <td>0.0</td>\n",
       "      <td>0.0</td>\n",
       "      <td>0.0</td>\n",
       "      <td>15.957354</td>\n",
       "      <td>26.736050</td>\n",
       "      <td>30.891187</td>\n",
       "      <td>26.268005</td>\n",
       "      <td>6.416321</td>\n",
       "      <td>-3.448486</td>\n",
       "      <td>24.529793</td>\n",
       "      <td>34.432211</td>\n",
       "      <td>39.221812</td>\n",
       "      <td>40.531158</td>\n",
       "      <td>10.463715</td>\n",
       "      <td>-0.820160</td>\n",
       "    </tr>\n",
       "  </tbody>\n",
       "</table>\n",
       "</div>"
      ],
      "text/plain": [
       "                time      dac1      dac2      dac3      dac4       imu1accx  \\\n",
       "count  124792.000000  124792.0  124792.0  124792.0  124792.0  124792.000000   \n",
       "mean      299.997564       0.0       0.0       0.0       0.0       0.856618   \n",
       "std       173.205756       0.0       0.0       0.0       0.0       0.275232   \n",
       "min         0.000000       0.0       0.0       0.0       0.0     -16.024392   \n",
       "25%       149.998782       0.0       0.0       0.0       0.0       0.843956   \n",
       "50%       299.997564       0.0       0.0       0.0       0.0       0.855927   \n",
       "75%       449.996346       0.0       0.0       0.0       0.0       0.869095   \n",
       "max       599.995128       0.0       0.0       0.0       0.0      15.957354   \n",
       "\n",
       "            imu1accy       imu1accz      imu1gyrox      imu1gyroy  \\\n",
       "count  124792.000000  124792.000000  124792.000000  124792.000000   \n",
       "mean       19.551479       0.740569       1.866581      -3.740061   \n",
       "std         0.168409       1.749063       2.925041       0.316832   \n",
       "min        12.427104     -30.725987     -25.859833     -13.656616   \n",
       "25%        19.536686       0.565032       1.300812      -3.837585   \n",
       "50%        19.553445       0.738611       1.869202      -3.742218   \n",
       "75%        19.566613       0.913388       2.429962      -3.643036   \n",
       "max        26.736050      30.891187      26.268005       6.416321   \n",
       "\n",
       "           imu1gyroz       imu2accx       imu2accy       imu2accz  \\\n",
       "count  124792.000000  124792.000000  124792.000000  124792.000000   \n",
       "mean       -4.493866      -1.670485      19.392886       0.969144   \n",
       "std         0.080097       0.549420       0.440526       3.066959   \n",
       "min        -5.458832     -29.062017       8.911219     -39.202658   \n",
       "25%        -4.547119      -1.685518      19.366697       0.469264   \n",
       "50%        -4.493713      -1.669956      19.389442       0.967257   \n",
       "75%        -4.444122      -1.655590      19.413384       1.472434   \n",
       "max        -3.448486      24.529793      34.432211      39.221812   \n",
       "\n",
       "           imu2gyrox      imu2gyroy      imu2gyroz  \n",
       "count  124792.000000  124792.000000  124792.000000  \n",
       "mean        2.511848      -6.669598      -2.479387  \n",
       "std         4.329607       0.489503       0.130623  \n",
       "min       -37.853241     -23.071289      -4.226685  \n",
       "25%         1.720428      -6.790161      -2.532959  \n",
       "50%         2.513885      -6.668091      -2.479553  \n",
       "75%         3.311157      -6.549835      -2.426147  \n",
       "max        40.531158      10.463715      -0.820160  "
      ]
     },
     "metadata": {},
     "output_type": "display_data"
    }
   ],
   "source": [
    "# Lista de tuplas contendo o ID do arquivo e o URL de cada arquivo\n",
    "arquivos_para_baixar = [\n",
    "    ('MedicaoDEDOjoao', 'https://drive.google.com/file/d/1waQTn6e9-QB5OPWqSTHl4HRZRisL7-rv/view?usp=drive_link')\n",
    "]\n",
    "\n",
    "# Itera sobre cada tupla e baixa o arquivo correspondente\n",
    "for arquivo_id, arquivo_url in arquivos_para_baixar:\n",
    "    # Baixando o arquivo\n",
    "    gdown.download(arquivo_url, quiet=False, fuzzy=True)\n",
    "\n",
    "df1 = ActVibData(\"MedicaoDEDOjoao.feather\")\n",
    "\n",
    "# Exibir Estatísticas Descritivas dos Dados\n",
    "display(df1.describe())"
   ]
  },
  {
   "cell_type": "markdown",
   "metadata": {},
   "source": [
    "# -----------------------------------------\n",
    "# Modelagem e Visualização dos Dados\n",
    "# -----------------------------------------"
   ]
  },
  {
   "cell_type": "code",
   "execution_count": 5,
   "metadata": {},
   "outputs": [
    {
     "name": "stderr",
     "output_type": "stream",
     "text": [
      "No artists with labels found to put in legend.  Note that artists whose label start with an underscore are ignored when legend() is called with no argument.\n"
     ]
    },
    {
     "data": {
      "image/png": "[encoded data removed]",
      "text/plain": [
       "<Figure size 1200x500 with 1 Axes>"
      ]
     },
     "metadata": {},
     "output_type": "display_data"
    }
   ],
   "source": [
    "# Preparação dos Dados para Modelagem\n",
    "x = df1['time'].values.reshape(-1, 1)\n",
    "y = df1['imu1accz'].values\n",
    "\n",
    "# Transformação Polinomial\n",
    "poly_features = PolynomialFeatures(degree=2)\n",
    "x_poly = poly_features.fit_transform(x)\n",
    "\n",
    "# Ajuste do Modelo de Regressão Linear\n",
    "model = LinearRegression()\n",
    "model.fit(x_poly, y)\n",
    "\n",
    "# Previsão dos Valores\n",
    "y_pred = model.predict(x_poly)\n",
    "\n",
    "# Plotagem dos Dados e Curva de Regressão\n",
    "plt.plot(df1['time'], df1['imu1accz'])\n",
    "plt.xlabel('Tempo')\n",
    "plt.ylabel('Acelerômetro 1')\n",
    "plt.title('Teste do DEDO')\n",
    "plt.legend()\n",
    "plt.gcf().set_size_inches(12,5)\n",
    "plt.xlim(4.2,15)\n",
    "plt.show()"
   ]
  },
  {
   "cell_type": "markdown",
   "metadata": {},
   "source": [
    "# ----------------------------------\n",
    "# Visualização dos Dados (Barras)\n",
    "# ----------------------------------"
   ]
  },
  {
   "cell_type": "code",
   "execution_count": 6,
   "metadata": {},
   "outputs": [
    {
     "data": {
      "image/png": "[encoded data removed]",
      "text/plain": [
       "<Figure size 1000x600 with 1 Axes>"
      ]
     },
     "metadata": {},
     "output_type": "display_data"
    }
   ],
   "source": [
    "# Colunas que quero plotar\n",
    "columns_to_plot = ['imu1accz']\n",
    "\n",
    "# Criar gráficos de barras para as colunas\n",
    "for column in columns_to_plot:\n",
    "    plt.figure(figsize=(10, 6))  # Define o tamanho da figura\n",
    "    plt.bar(df1['time'], df1[column])  # Cria um gráfico de barras\n",
    "    plt.xlabel('Tempo')\n",
    "    plt.ylabel('Acelerômetro 1 (eixo Z)')  # O rótulo do eixo y será o nome da coluna\n",
    "    plt.title(f'Gráfico para Acelerômetro 1')\n",
    "    plt.show()"
   ]
  },
  {
   "cell_type": "markdown",
   "metadata": {},
   "source": [
    "# --------------------------------------------------\n",
    "# Estatísticas Descritivas Utilizando Scikit-learn\n",
    "# --------------------------------------------------"
   ]
  },
  {
   "cell_type": "code",
   "execution_count": 7,
   "metadata": {},
   "outputs": [
    {
     "name": "stdout",
     "output_type": "stream",
     "text": [
      "Média: -1.0085172292415198e-17\n",
      "Desvio Padrão: 0.9999999999999999\n",
      "Valor Mínimo: -17.990596607246754\n",
      "Valor Máximo: 17.238226533967776\n"
     ]
    }
   ],
   "source": [
    "#Algoritmo do Scikit-learn\n",
    "# Calcular estatísticas descritivas para a coluna 'imu1accz'\n",
    "imu1accz_data = df1['imu1accz'].values.reshape(-1, 1)\n",
    "\n",
    "# Escalonamento dos Dados\n",
    "scaler = StandardScaler()\n",
    "imu1accz_scaled = scaler.fit_transform(imu1accz_data)\n",
    "\n",
    "# Estatísticas descritivas após escalonamento\n",
    "print(\"Média:\", imu1accz_scaled.mean())\n",
    "print(\"Desvio Padrão:\", imu1accz_scaled.std())\n",
    "print(\"Valor Mínimo:\", imu1accz_scaled.min())\n",
    "print(\"Valor Máximo:\", imu1accz_scaled.max())\n"
   ]
  }
 ],
 "metadata": {
  "kernelspec": {
   "display_name": "Python3.11 (tensorflow)",
   "language": "python",
   "name": "tensorflow"
  },
  "language_info": {
   "codemirror_mode": {
    "name": "ipython",
    "version": 3
   },
   "file_extension": ".py",
   "mimetype": "text/x-python",
   "name": "python",
   "nbconvert_exporter": "python",
   "pygments_lexer": "ipython3",
   "version": "3.11.5"
  },
  "orig_nbformat": 4
 },
 "nbformat": 4,
 "nbformat_minor": 2
}
